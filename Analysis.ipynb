{
  "cells": [
    {
      "cell_type": "markdown",
      "metadata": {
        "id": "view-in-github",
        "colab_type": "text"
      },
      "source": [
        "<a href=\"https://colab.research.google.com/github/kimmiegeorge/CreditCards/blob/main/Analysis.ipynb\" target=\"_parent\"><img src=\"https://colab.research.google.com/assets/colab-badge.svg\" alt=\"Open In Colab\"/></a>"
      ]
    },
    {
      "cell_type": "code",
      "execution_count": 1,
      "metadata": {
        "id": "w6MmeBUBJ-9E"
      },
      "outputs": [],
      "source": [
        "# @title Setup\n",
        "from google.colab import auth\n",
        "from google.cloud import bigquery\n",
        "from google.colab import data_table\n",
        "import pandas as pd\n",
        "\n",
        "project = 'omri-09212023' # Project ID inserted based on the query results selected to explore\n",
        "location = 'us-central1' # Location inserted based on the query results selected to explore\n",
        "client = bigquery.Client(project=project, location=location)\n",
        "data_table.enable_dataframe_formatter()\n",
        "auth.authenticate_user()"
      ]
    },
    {
      "cell_type": "code",
      "execution_count": 2,
      "metadata": {
        "id": "KxSqPfAeXW_K"
      },
      "outputs": [],
      "source": [
        "# Running this code will display the query used to generate your previous job\n",
        "job = client.get_job('bquxjob_17b9cdcf_18b681c7fb4') # Job ID inserted based on the query results selected to explore\n",
        "#print(job.query)"
      ]
    },
    {
      "cell_type": "code",
      "execution_count": 3,
      "metadata": {
        "id": "bIw82qhuHWy0"
      },
      "outputs": [],
      "source": [
        "# Running this code will read results from your previous job\n",
        "job = client.get_job('bquxjob_17b9cdcf_18b681c7fb4') # Job ID inserted based on the query results selected to explore\n",
        "results = job.to_dataframe()\n",
        "# results.MERCHANT_TICKER.unique() # to pull tickers for EA file creation"
      ]
    },
    {
      "cell_type": "code",
      "source": [
        "# load EA file\n",
        "ea_data = pd.read_csv(\"/content/SampleEAData.csv\")"
      ],
      "metadata": {
        "id": "aUjR-WDgvaNA"
      },
      "execution_count": 4,
      "outputs": []
    },
    {
      "cell_type": "markdown",
      "source": [
        "**Fix Dates**\n",
        "\n",
        "\n",
        "*   Add year month variables\n",
        "*   Create sequence of year months\n",
        "\n"
      ],
      "metadata": {
        "id": "OJHz2MSy0zeD"
      }
    },
    {
      "cell_type": "code",
      "source": [
        "# create data date year month and announcement year month\n",
        "ea_data['rdq'] = pd.to_datetime(ea_data['rdq'])\n",
        "ea_data['rdq_year'] = ea_data['rdq'].dt.year\n",
        "ea_data['rdq_month'] = ea_data['rdq'].dt.month\n",
        "ea_data['datadate'] = pd.to_datetime(ea_data['datadate'])\n",
        "ea_data['datadate_year'] = ea_data['datadate'].dt.year\n",
        "ea_data['datadate_month'] = ea_data['datadate'].dt.month\n"
      ],
      "metadata": {
        "id": "Sqx0AEE21y_S"
      },
      "execution_count": 5,
      "outputs": []
    },
    {
      "cell_type": "code",
      "source": [
        "# create month id data frame\n",
        "months = results[['year', 'month']].drop_duplicates()\n",
        "months = months.sort_values(by=['year', 'month'])\n",
        "months['MonthID'] = months.index\n",
        "del months['index']"
      ],
      "metadata": {
        "id": "ywQBlbI70I1L"
      },
      "execution_count": 6,
      "outputs": []
    },
    {
      "cell_type": "markdown",
      "source": [
        "**Filters**"
      ],
      "metadata": {
        "id": "PSSHtQkt_gAd"
      }
    },
    {
      "cell_type": "code",
      "source": [
        "# only keep tickers that are in ea data\n",
        "results = results[results['MERCHANT_TICKER'].isin(ea_data['TICKER'].unique())]"
      ],
      "metadata": {
        "id": "Vc5RcFpr_hyC"
      },
      "execution_count": 16,
      "outputs": []
    },
    {
      "cell_type": "code",
      "source": [],
      "metadata": {
        "id": "qRxIWV9G_uJR",
        "outputId": "35135ac0-ea55-4af0-8620-2541bd6d27fb",
        "colab": {
          "base_uri": "https://localhost:8080/"
        }
      },
      "execution_count": 17,
      "outputs": [
        {
          "output_type": "execute_result",
          "data": {
            "text/plain": [
              "(35704963, 8)"
            ]
          },
          "metadata": {},
          "execution_count": 17
        }
      ]
    }
  ],
  "metadata": {
    "colab": {
      "cell_execution_strategy": "setup",
      "name": "BigQuery bquxjob_17b9cdcf_18b681c7fb4",
      "provenance": [],
      "include_colab_link": true
    },
    "kernelspec": {
      "display_name": "Python 3",
      "name": "python3"
    },
    "language_info": {
      "name": "python"
    }
  },
  "nbformat": 4,
  "nbformat_minor": 0
}